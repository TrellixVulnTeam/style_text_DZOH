{
 "cells": [
  {
   "cell_type": "code",
   "execution_count": 1,
   "metadata": {},
   "outputs": [],
   "source": [
    "from src.parameters import Params\n",
    "from src.vocabulary import Vocabulary\n",
    "from src.style_transfer import StyleTransfer\n",
    "from src.greedy_decoding import Decoder"
   ]
  },
  {
   "cell_type": "code",
   "execution_count": 2,
   "metadata": {},
   "outputs": [],
   "source": [
    "params = Params()\n",
    "vocab = Vocabulary()\n",
    "vocab.loadVocabulary(\"data/yelp/vocabulary.pickle\")\n",
    "vocab.initializeEmbeddings(params.embedding_size)\n",
    "model = StyleTransfer(params, vocab)"
   ]
  },
  {
   "cell_type": "code",
   "execution_count": 3,
   "metadata": {},
   "outputs": [],
   "source": [
    "import torch\n",
    "checkpoint = torch.load(\"data/models/yelp/final-2018-06-24-epoch_16-loss_7.492940\")\n",
    "model.load_state_dict(checkpoint)"
   ]
  },
  {
   "cell_type": "code",
   "execution_count": 4,
   "metadata": {},
   "outputs": [],
   "source": [
    "import numpy as np\n",
    "\n",
    "with open('data/yelp/test/negative_test.txt', 'r') as fp:\n",
    "    testSents = fp.readlines()\n",
    "    \n",
    "labels = np.array([0] * len(testSents))"
   ]
  },
  {
   "cell_type": "code",
   "execution_count": 5,
   "metadata": {},
   "outputs": [],
   "source": [
    "decoder = Decoder(model, 20, 12, params)"
   ]
  },
  {
   "cell_type": "code",
   "execution_count": 6,
   "metadata": {},
   "outputs": [
    {
     "data": {
      "text/plain": [
       "['ok never going back to this place again .\\n',\n",
       " 'easter day nothing open , heard about this place figured it would ok .\\n']"
      ]
     },
     "execution_count": 6,
     "metadata": {},
     "output_type": "execute_result"
    }
   ],
   "source": [
    "testSents[:2]"
   ]
  },
  {
   "cell_type": "code",
   "execution_count": 7,
   "metadata": {},
   "outputs": [
    {
     "name": "stdout",
     "output_type": "stream",
     "text": [
      "size  2\n",
      "currTokens.shape torch.Size([2, 1, 200])\n",
      "hidden.shape torch.Size([1, 2, 700])\n",
      "currTokens.shape torch.Size([2, 1, 200])\n",
      "hidden.shape torch.Size([1, 2, 700])\n",
      "currTokens.shape torch.Size([2, 1, 200])\n",
      "hidden.shape torch.Size([1, 2, 700])\n",
      "currTokens.shape torch.Size([2, 1, 200])\n",
      "hidden.shape torch.Size([1, 2, 700])\n",
      "currTokens.shape torch.Size([2, 1, 200])\n",
      "hidden.shape torch.Size([1, 2, 700])\n",
      "currTokens.shape torch.Size([2, 1, 200])\n",
      "hidden.shape torch.Size([1, 2, 700])\n",
      "currTokens.shape torch.Size([2, 1, 200])\n",
      "hidden.shape torch.Size([1, 2, 700])\n",
      "currTokens.shape torch.Size([2, 1, 200])\n",
      "hidden.shape torch.Size([1, 2, 700])\n",
      "currTokens.shape torch.Size([2, 1, 200])\n",
      "hidden.shape torch.Size([1, 2, 700])\n",
      "currTokens.shape torch.Size([2, 1, 200])\n",
      "hidden.shape torch.Size([1, 2, 700])\n",
      "currTokens.shape torch.Size([2, 1, 200])\n",
      "hidden.shape torch.Size([1, 2, 700])\n",
      "currTokens.shape torch.Size([2, 1, 200])\n",
      "hidden.shape torch.Size([1, 2, 700])\n",
      "currTokens.shape torch.Size([2, 1, 200])\n",
      "hidden.shape torch.Size([1, 2, 700])\n",
      "currTokens.shape torch.Size([2, 1, 200])\n",
      "hidden.shape torch.Size([1, 2, 700])\n",
      "currTokens.shape torch.Size([2, 1, 200])\n",
      "hidden.shape torch.Size([1, 2, 700])\n",
      "currTokens.shape torch.Size([2, 1, 200])\n",
      "hidden.shape torch.Size([1, 2, 700])\n",
      "currTokens.shape torch.Size([2, 1, 200])\n",
      "hidden.shape torch.Size([1, 2, 700])\n",
      "currTokens.shape torch.Size([2, 1, 200])\n",
      "hidden.shape torch.Size([1, 2, 700])\n",
      "currTokens.shape torch.Size([2, 1, 200])\n",
      "hidden.shape torch.Size([1, 2, 700])\n",
      "currTokens.shape torch.Size([2, 1, 200])\n",
      "hidden.shape torch.Size([1, 2, 700])\n",
      "size  2\n",
      "currTokens.shape torch.Size([2, 1, 200])\n",
      "hidden.shape torch.Size([1, 2, 700])\n",
      "currTokens.shape torch.Size([2, 1, 200])\n",
      "hidden.shape torch.Size([1, 2, 700])\n",
      "currTokens.shape torch.Size([2, 1, 200])\n",
      "hidden.shape torch.Size([1, 2, 700])\n",
      "currTokens.shape torch.Size([2, 1, 200])\n",
      "hidden.shape torch.Size([1, 2, 700])\n",
      "currTokens.shape torch.Size([2, 1, 200])\n",
      "hidden.shape torch.Size([1, 2, 700])\n",
      "currTokens.shape torch.Size([2, 1, 200])\n",
      "hidden.shape torch.Size([1, 2, 700])\n",
      "currTokens.shape torch.Size([2, 1, 200])\n",
      "hidden.shape torch.Size([1, 2, 700])\n",
      "currTokens.shape torch.Size([2, 1, 200])\n",
      "hidden.shape torch.Size([1, 2, 700])\n",
      "currTokens.shape torch.Size([2, 1, 200])\n",
      "hidden.shape torch.Size([1, 2, 700])\n",
      "currTokens.shape torch.Size([2, 1, 200])\n",
      "hidden.shape torch.Size([1, 2, 700])\n",
      "currTokens.shape torch.Size([2, 1, 200])\n",
      "hidden.shape torch.Size([1, 2, 700])\n",
      "currTokens.shape torch.Size([2, 1, 200])\n",
      "hidden.shape torch.Size([1, 2, 700])\n",
      "currTokens.shape torch.Size([2, 1, 200])\n",
      "hidden.shape torch.Size([1, 2, 700])\n",
      "currTokens.shape torch.Size([2, 1, 200])\n",
      "hidden.shape torch.Size([1, 2, 700])\n",
      "currTokens.shape torch.Size([2, 1, 200])\n",
      "hidden.shape torch.Size([1, 2, 700])\n",
      "currTokens.shape torch.Size([2, 1, 200])\n",
      "hidden.shape torch.Size([1, 2, 700])\n",
      "currTokens.shape torch.Size([2, 1, 200])\n",
      "hidden.shape torch.Size([1, 2, 700])\n",
      "currTokens.shape torch.Size([2, 1, 200])\n",
      "hidden.shape torch.Size([1, 2, 700])\n",
      "currTokens.shape torch.Size([2, 1, 200])\n",
      "hidden.shape torch.Size([1, 2, 700])\n",
      "currTokens.shape torch.Size([2, 1, 200])\n",
      "hidden.shape torch.Size([1, 2, 700])\n"
     ]
    }
   ],
   "source": [
    "orig, tsf = decoder.rewriteBatch(testSents[:2], labels[:2])"
   ]
  },
  {
   "cell_type": "code",
   "execution_count": 8,
   "metadata": {},
   "outputs": [
    {
     "data": {
      "text/plain": [
       "True"
      ]
     },
     "execution_count": 8,
     "metadata": {},
     "output_type": "execute_result"
    }
   ],
   "source": [
    "any(torch.FloatTensor([1, 0]))"
   ]
  },
  {
   "cell_type": "code",
   "execution_count": 9,
   "metadata": {},
   "outputs": [
    {
     "name": "stdout",
     "output_type": "stream",
     "text": [
      "slightest\n",
      "is\n",
      "immaculate\n",
      ".\n",
      ".\n",
      ".\n",
      ".\n",
      ".\n"
     ]
    }
   ],
   "source": [
    "sent = 'the restaurant was nice but food tasted ugly'.split()\n",
    "h = torch.zeros(700).to('cuda')\n",
    "h = h.unsqueeze(0).unsqueeze(0)\n",
    "for token in sent:\n",
    "    emb = vocab([token])\n",
    "    emb = emb.unsqueeze(1)\n",
    "    out, h = model.generator(emb, h, pad=False)\n",
    "    voc = model.hiddenToVocab(out)\n",
    "    _, id = voc.max(2)\n",
    "    h = h\n",
    "    print(vocab.id2word[int(id)])"
   ]
  },
  {
   "cell_type": "code",
   "execution_count": 10,
   "metadata": {},
   "outputs": [
    {
     "data": {
      "text/plain": [
       "(tensor([[ 24.8807]], device='cuda:0'), tensor([[ 4]], device='cuda:0'))"
      ]
     },
     "execution_count": 10,
     "metadata": {},
     "output_type": "execute_result"
    }
   ],
   "source": [
    "model.hiddenToVocab(out).max(2)"
   ]
  },
  {
   "cell_type": "code",
   "execution_count": 12,
   "metadata": {},
   "outputs": [
    {
     "data": {
      "text/plain": [
       "torch.Size([1, 1, 200])"
      ]
     },
     "execution_count": 12,
     "metadata": {},
     "output_type": "execute_result"
    }
   ],
   "source": [
    "emb.size()"
   ]
  },
  {
   "cell_type": "code",
   "execution_count": null,
   "metadata": {},
   "outputs": [],
   "source": []
  }
 ],
 "metadata": {
  "kernelspec": {
   "display_name": "Python 3",
   "language": "python",
   "name": "python3"
  },
  "language_info": {
   "codemirror_mode": {
    "name": "ipython",
    "version": 3
   },
   "file_extension": ".py",
   "mimetype": "text/x-python",
   "name": "python",
   "nbconvert_exporter": "python",
   "pygments_lexer": "ipython3",
   "version": "3.6.5"
  }
 },
 "nbformat": 4,
 "nbformat_minor": 2
}
