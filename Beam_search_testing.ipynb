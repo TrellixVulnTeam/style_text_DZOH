{
 "cells": [
  {
   "cell_type": "code",
   "execution_count": 9,
   "metadata": {},
   "outputs": [],
   "source": [
    "from src.parameters import Params\n",
    "from src.vocabulary import Vocabulary\n",
    "from src.style_transfer import StyleTransfer\n",
    "from src.greedy_decoding import Decoder\n",
    "from src.generate_batches import preprocessSentences"
   ]
  },
  {
   "cell_type": "code",
   "execution_count": 2,
   "metadata": {},
   "outputs": [],
   "source": [
    "params = Params()\n",
    "vocab = Vocabulary()\n",
    "vocab.loadVocabulary(\"data/yelp/vocabulary.pickle\")\n",
    "vocab.initializeEmbeddings(params.embedding_size)\n",
    "model = StyleTransfer(params, vocab)"
   ]
  },
  {
   "cell_type": "code",
   "execution_count": 4,
   "metadata": {},
   "outputs": [],
   "source": [
    "import torch\n",
    "checkpoint = torch.load(\"data/models/yelp/model-2018-06-26-epoch_19-loss_68.143707\")\n",
    "model.load_state_dict(checkpoint)"
   ]
  },
  {
   "cell_type": "code",
   "execution_count": 24,
   "metadata": {},
   "outputs": [],
   "source": [
    "import numpy as np\n",
    "\n",
    "with open('data/yelp/dev/negative.txt', 'r') as fp:\n",
    "    testSents = fp.readlines()[:16]\n",
    "    \n",
    "labels = np.array([0] * len(testSents))"
   ]
  },
  {
   "cell_type": "code",
   "execution_count": 5,
   "metadata": {},
   "outputs": [],
   "source": [
    "decoder = Decoder(model, 20, 12, params)"
   ]
  },
  {
   "cell_type": "code",
   "execution_count": 27,
   "metadata": {},
   "outputs": [],
   "source": [
    "encoder_inputs, generator_inputs, targets, lenghts = \\\n",
    "            model._sentencesToInputs(testSents)"
   ]
  },
  {
   "cell_type": "code",
   "execution_count": 33,
   "metadata": {},
   "outputs": [],
   "source": [
    "model.eval_size = 16\n",
    "model._computeHiddens(\n",
    "                encoder_inputs, generator_inputs, labels, lenghts, True)\n",
    "generatorOutputs, h_teacher = model._generateTokens(\n",
    "            generator_inputs, model.originalHiddens, lenghts, True)"
   ]
  },
  {
   "cell_type": "code",
   "execution_count": 36,
   "metadata": {},
   "outputs": [
    {
     "data": {
      "text/plain": [
       "tensor(3.9300, device='cuda:0')"
      ]
     },
     "execution_count": 36,
     "metadata": {},
     "output_type": "execute_result"
    }
   ],
   "source": [
    "packedGenOutput = torch.nn.utils.rnn.pack_padded_sequence(\n",
    "    generatorOutputs, lenghts, batch_first=True)[0]\n",
    "\n",
    "model.rec_loss_criterion(\n",
    "    packedGenOutput.view(-1, model.vocabulary.vocabSize),\n",
    "    targets.view(-1))"
   ]
  },
  {
   "cell_type": "code",
   "execution_count": 55,
   "metadata": {},
   "outputs": [
    {
     "data": {
      "text/plain": [
       "['it was obvious it was the same damn one he brought the first time . .',\n",
       " 'major day nothing open , heard about this place figured it ok ok . . the',\n",
       " 'the host that walked us to the table and left without to word hello . the',\n",
       " 'the last couple years this place has been going smoothly hill to detailing the the the',\n",
       " 'last night however it was way to thick and tasteless power ! the the the the',\n",
       " 'i tried to eat it but it was disgusting appropriately ! the the the the the',\n",
       " \"i pushed it by and did n't eat anymore than the the the the the the\",\n",
       " 'ok never going back to this place again to ! the the the the the the',\n",
       " 'no sign of the manager ! ! the the the the the the the the the',\n",
       " 'it smelled like rotten pretentious . . the the the the the the the the the',\n",
       " 'i will never be back . . the the the the the the the the the',\n",
       " 'it just gets worse . . the the the the the the the the the the',\n",
       " 'the food tasted awful . . the the the the the the the the the the',\n",
       " 'i am not exaggerating madison ! the the the the the the the the the the',\n",
       " 'this smelled bad yourself . the the the the the the the the the the the',\n",
       " 'it tasted horrible neighborhood word the the the the the the the the the the the']"
      ]
     },
     "execution_count": 55,
     "metadata": {},
     "output_type": "execute_result"
    }
   ],
   "source": [
    "sents = []\n",
    "for index in range(16):\n",
    "    tokensLogits = generatorOutputs[index, :, :]\n",
    "    sent = []\n",
    "    for j in range(16):\n",
    "        logit = tokensLogits[j, :]\n",
    "        sent.append(model.vocabulary.id2word[logit.argmax()])\n",
    "    sents.append(\" \".join(sent))\n",
    "sents        "
   ]
  },
  {
   "cell_type": "code",
   "execution_count": 48,
   "metadata": {},
   "outputs": [
    {
     "data": {
      "text/plain": [
       "['ok never going back to this place again .\\n',\n",
       " 'easter day nothing open , heard about this place figured it would ok .\\n',\n",
       " 'the host that walked us to the table and left without a word .\\n',\n",
       " 'it just gets worse .\\n',\n",
       " 'the food tasted awful .\\n',\n",
       " 'no sign of the manager .\\n',\n",
       " 'the last couple years this place has been going down hill .\\n',\n",
       " 'last night however it was way to thick and tasteless .\\n',\n",
       " 'it smelled like rotten urine .\\n',\n",
       " 'i am not exaggerating .\\n',\n",
       " 'this smelled bad !\\n',\n",
       " 'it was obvious it was the same damn one he brought the first time .\\n',\n",
       " 'i tried to eat it but it was disgusting .\\n',\n",
       " 'it tasted horrible !\\n',\n",
       " \"i pushed it aside and did n't eat anymore .\\n\",\n",
       " 'i will never be back .\\n']"
      ]
     },
     "execution_count": 48,
     "metadata": {},
     "output_type": "execute_result"
    }
   ],
   "source": [
    "testSents"
   ]
  }
 ],
 "metadata": {
  "kernelspec": {
   "display_name": "Python 3",
   "language": "python",
   "name": "python3"
  },
  "language_info": {
   "codemirror_mode": {
    "name": "ipython",
    "version": 3
   },
   "file_extension": ".py",
   "mimetype": "text/x-python",
   "name": "python",
   "nbconvert_exporter": "python",
   "pygments_lexer": "ipython3",
   "version": "3.6.5"
  }
 },
 "nbformat": 4,
 "nbformat_minor": 2
}
